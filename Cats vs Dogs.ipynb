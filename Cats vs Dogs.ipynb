{
 "cells": [
  {
   "cell_type": "code",
   "execution_count": 1,
   "metadata": {
    "_cell_guid": "b1076dfc-b9ad-4769-8c92-a6c4dae69d19",
    "_uuid": "8f2839f25d086af736a60e9eeb907d3b93b6e0e5",
    "execution": {
     "iopub.execute_input": "2022-09-15T05:31:07.694826Z",
     "iopub.status.busy": "2022-09-15T05:31:07.694455Z",
     "iopub.status.idle": "2022-09-15T05:31:07.702862Z",
     "shell.execute_reply": "2022-09-15T05:31:07.702011Z",
     "shell.execute_reply.started": "2022-09-15T05:31:07.694745Z"
    }
   },
   "outputs": [],
   "source": [
    "\n",
    "import numpy as np # linear algebra\n",
    "import pandas as pd # data processing, CSV file I/O (e.g. pd.read_csv)\n",
    "import os\n"
   ]
  },
  {
   "cell_type": "code",
   "execution_count": 2,
   "metadata": {
    "execution": {
     "iopub.execute_input": "2022-09-15T05:31:15.709130Z",
     "iopub.status.busy": "2022-09-15T05:31:15.708791Z",
     "iopub.status.idle": "2022-09-15T05:31:20.225176Z",
     "shell.execute_reply": "2022-09-15T05:31:20.224317Z",
     "shell.execute_reply.started": "2022-09-15T05:31:15.709096Z"
    }
   },
   "outputs": [],
   "source": [
    "import tensorflow as tf"
   ]
  },
  {
   "cell_type": "code",
   "execution_count": 3,
   "metadata": {
    "execution": {
     "iopub.execute_input": "2022-09-15T05:31:20.226947Z",
     "iopub.status.busy": "2022-09-15T05:31:20.226604Z",
     "iopub.status.idle": "2022-09-15T05:31:20.231109Z",
     "shell.execute_reply": "2022-09-15T05:31:20.230249Z",
     "shell.execute_reply.started": "2022-09-15T05:31:20.226909Z"
    }
   },
   "outputs": [],
   "source": [
    "from tensorflow.keras.preprocessing.image import ImageDataGenerator"
   ]
  },
  {
   "cell_type": "code",
   "execution_count": 4,
   "metadata": {
    "execution": {
     "iopub.execute_input": "2022-09-15T05:31:20.723133Z",
     "iopub.status.busy": "2022-09-15T05:31:20.722714Z",
     "iopub.status.idle": "2022-09-15T05:31:20.727546Z",
     "shell.execute_reply": "2022-09-15T05:31:20.726575Z",
     "shell.execute_reply.started": "2022-09-15T05:31:20.723098Z"
    }
   },
   "outputs": [],
   "source": [
    "data_generator = ImageDataGenerator(rescale=1/255,horizontal_flip=True,zoom_range=0.2,shear_range=0.2)"
   ]
  },
  {
   "cell_type": "code",
   "execution_count": 5,
   "metadata": {
    "execution": {
     "iopub.execute_input": "2022-09-15T05:31:21.231288Z",
     "iopub.status.busy": "2022-09-15T05:31:21.230914Z",
     "iopub.status.idle": "2022-09-15T05:31:21.854630Z",
     "shell.execute_reply": "2022-09-15T05:31:21.853747Z",
     "shell.execute_reply.started": "2022-09-15T05:31:21.231254Z"
    }
   },
   "outputs": [],
   "source": [
    "file_list=os.listdir('/kaggle/input/dogs-vs-cats/train/train')"
   ]
  },
  {
   "cell_type": "code",
   "execution_count": 10,
   "metadata": {
    "execution": {
     "iopub.execute_input": "2022-09-14T14:31:23.040405Z",
     "iopub.status.busy": "2022-09-14T14:31:23.040062Z",
     "iopub.status.idle": "2022-09-14T14:31:23.053898Z",
     "shell.execute_reply": "2022-09-14T14:31:23.052778Z",
     "shell.execute_reply.started": "2022-09-14T14:31:23.040375Z"
    }
   },
   "outputs": [],
   "source": [
    "categories=[]\n",
    "for filename in file_list:\n",
    "    categories.append(filename.split('.')[0])"
   ]
  },
  {
   "cell_type": "code",
   "execution_count": 11,
   "metadata": {
    "execution": {
     "iopub.execute_input": "2022-09-14T14:31:24.386128Z",
     "iopub.status.busy": "2022-09-14T14:31:24.385737Z",
     "iopub.status.idle": "2022-09-14T14:31:24.392121Z",
     "shell.execute_reply": "2022-09-14T14:31:24.391003Z",
     "shell.execute_reply.started": "2022-09-14T14:31:24.386092Z"
    }
   },
   "outputs": [
    {
     "data": {
      "text/plain": [
       "['cat', 'dog', 'dog', 'dog', 'dog']"
      ]
     },
     "execution_count": 11,
     "metadata": {},
     "output_type": "execute_result"
    }
   ],
   "source": [
    "categories[:5]"
   ]
  },
  {
   "cell_type": "code",
   "execution_count": 12,
   "metadata": {
    "execution": {
     "iopub.execute_input": "2022-09-14T14:31:27.679588Z",
     "iopub.status.busy": "2022-09-14T14:31:27.679256Z",
     "iopub.status.idle": "2022-09-14T14:31:27.692961Z",
     "shell.execute_reply": "2022-09-14T14:31:27.691969Z",
     "shell.execute_reply.started": "2022-09-14T14:31:27.679558Z"
    }
   },
   "outputs": [],
   "source": [
    "df=pd.DataFrame({'filepath':file_list,'categories':categories})"
   ]
  },
  {
   "cell_type": "code",
   "execution_count": 13,
   "metadata": {
    "execution": {
     "iopub.execute_input": "2022-09-14T14:31:28.073010Z",
     "iopub.status.busy": "2022-09-14T14:31:28.072674Z",
     "iopub.status.idle": "2022-09-14T14:31:28.093234Z",
     "shell.execute_reply": "2022-09-14T14:31:28.092336Z",
     "shell.execute_reply.started": "2022-09-14T14:31:28.072976Z"
    }
   },
   "outputs": [
    {
     "data": {
      "text/html": [
       "<div>\n",
       "<style scoped>\n",
       "    .dataframe tbody tr th:only-of-type {\n",
       "        vertical-align: middle;\n",
       "    }\n",
       "\n",
       "    .dataframe tbody tr th {\n",
       "        vertical-align: top;\n",
       "    }\n",
       "\n",
       "    .dataframe thead th {\n",
       "        text-align: right;\n",
       "    }\n",
       "</style>\n",
       "<table border=\"1\" class=\"dataframe\">\n",
       "  <thead>\n",
       "    <tr style=\"text-align: right;\">\n",
       "      <th></th>\n",
       "      <th>filepath</th>\n",
       "      <th>categories</th>\n",
       "    </tr>\n",
       "  </thead>\n",
       "  <tbody>\n",
       "    <tr>\n",
       "      <th>0</th>\n",
       "      <td>cat.12461.jpg</td>\n",
       "      <td>cat</td>\n",
       "    </tr>\n",
       "    <tr>\n",
       "      <th>1</th>\n",
       "      <td>dog.3443.jpg</td>\n",
       "      <td>dog</td>\n",
       "    </tr>\n",
       "    <tr>\n",
       "      <th>2</th>\n",
       "      <td>dog.7971.jpg</td>\n",
       "      <td>dog</td>\n",
       "    </tr>\n",
       "    <tr>\n",
       "      <th>3</th>\n",
       "      <td>dog.10728.jpg</td>\n",
       "      <td>dog</td>\n",
       "    </tr>\n",
       "    <tr>\n",
       "      <th>4</th>\n",
       "      <td>dog.1942.jpg</td>\n",
       "      <td>dog</td>\n",
       "    </tr>\n",
       "  </tbody>\n",
       "</table>\n",
       "</div>"
      ],
      "text/plain": [
       "        filepath categories\n",
       "0  cat.12461.jpg        cat\n",
       "1   dog.3443.jpg        dog\n",
       "2   dog.7971.jpg        dog\n",
       "3  dog.10728.jpg        dog\n",
       "4   dog.1942.jpg        dog"
      ]
     },
     "execution_count": 13,
     "metadata": {},
     "output_type": "execute_result"
    }
   ],
   "source": [
    "df.head()\n"
   ]
  },
  {
   "cell_type": "code",
   "execution_count": 14,
   "metadata": {
    "execution": {
     "iopub.execute_input": "2022-09-14T14:31:30.811737Z",
     "iopub.status.busy": "2022-09-14T14:31:30.811417Z",
     "iopub.status.idle": "2022-09-14T14:32:05.349010Z",
     "shell.execute_reply": "2022-09-14T14:32:05.348046Z",
     "shell.execute_reply.started": "2022-09-14T14:31:30.811704Z"
    }
   },
   "outputs": [
    {
     "name": "stdout",
     "output_type": "stream",
     "text": [
      "Found 25000 validated image filenames belonging to 2 classes.\n"
     ]
    }
   ],
   "source": [
    "train_data=data_generator.flow_from_dataframe(df,'/kaggle/input/dogs-vs-cats/train/train',x_col='filepath',y_col='categories',target_size=(224,224),batch_size=32,class_mode='categorical')"
   ]
  },
  {
   "cell_type": "code",
   "execution_count": 15,
   "metadata": {
    "execution": {
     "iopub.execute_input": "2022-09-14T14:32:05.350870Z",
     "iopub.status.busy": "2022-09-14T14:32:05.350530Z",
     "iopub.status.idle": "2022-09-14T14:32:05.357920Z",
     "shell.execute_reply": "2022-09-14T14:32:05.356916Z",
     "shell.execute_reply.started": "2022-09-14T14:32:05.350832Z"
    }
   },
   "outputs": [
    {
     "data": {
      "text/plain": [
       "<tensorflow.python.keras.preprocessing.image.DataFrameIterator at 0x7f8260b09510>"
      ]
     },
     "execution_count": 15,
     "metadata": {},
     "output_type": "execute_result"
    }
   ],
   "source": [
    "train_data"
   ]
  },
  {
   "cell_type": "code",
   "execution_count": 16,
   "metadata": {
    "execution": {
     "iopub.execute_input": "2022-09-14T14:32:05.360517Z",
     "iopub.status.busy": "2022-09-14T14:32:05.360141Z",
     "iopub.status.idle": "2022-09-14T14:32:05.367052Z",
     "shell.execute_reply": "2022-09-14T14:32:05.366016Z",
     "shell.execute_reply.started": "2022-09-14T14:32:05.360443Z"
    }
   },
   "outputs": [
    {
     "data": {
      "text/plain": [
       "{'cat': 0, 'dog': 1}"
      ]
     },
     "execution_count": 16,
     "metadata": {},
     "output_type": "execute_result"
    }
   ],
   "source": [
    "train_data.class_indices"
   ]
  },
  {
   "cell_type": "code",
   "execution_count": 13,
   "metadata": {
    "execution": {
     "iopub.execute_input": "2022-09-14T10:42:40.412785Z",
     "iopub.status.busy": "2022-09-14T10:42:40.412196Z",
     "iopub.status.idle": "2022-09-14T10:42:40.420153Z",
     "shell.execute_reply": "2022-09-14T10:42:40.419122Z",
     "shell.execute_reply.started": "2022-09-14T10:42:40.412751Z"
    }
   },
   "outputs": [],
   "source": [
    "from tensorflow.keras.models import Sequential\n",
    "from tensorflow.keras.layers import Conv2D,MaxPool2D,Dense,Flatten"
   ]
  },
  {
   "cell_type": "code",
   "execution_count": 14,
   "metadata": {
    "execution": {
     "iopub.execute_input": "2022-09-14T10:42:40.421738Z",
     "iopub.status.busy": "2022-09-14T10:42:40.421368Z",
     "iopub.status.idle": "2022-09-14T10:42:42.871866Z",
     "shell.execute_reply": "2022-09-14T10:42:42.871015Z",
     "shell.execute_reply.started": "2022-09-14T10:42:40.421700Z"
    }
   },
   "outputs": [],
   "source": [
    "model=Sequential()\n",
    "model.add(Conv2D(32,(5,5),activation='relu',input_shape=(224,224,3)))\n",
    "model.add(MaxPool2D((2,2)))\n",
    "model.add(Conv2D(64,(3,3),activation='relu'))\n",
    "model.add(MaxPool2D())\n",
    "model.add(Conv2D(64,(3,3),activation='relu'))\n",
    "model.add(MaxPool2D())\n",
    "model.add(Conv2D(128,(3,3),activation='relu'))\n",
    "model.add(MaxPool2D())\n",
    "model.add(Flatten())\n",
    "\n",
    "model.add(Dense(50,activation='relu'))\n",
    "model.add(Dense(2,activation='softmax'))"
   ]
  },
  {
   "cell_type": "code",
   "execution_count": 15,
   "metadata": {
    "execution": {
     "iopub.execute_input": "2022-09-14T10:42:42.873483Z",
     "iopub.status.busy": "2022-09-14T10:42:42.873139Z",
     "iopub.status.idle": "2022-09-14T10:42:42.887296Z",
     "shell.execute_reply": "2022-09-14T10:42:42.886448Z",
     "shell.execute_reply.started": "2022-09-14T10:42:42.873443Z"
    }
   },
   "outputs": [],
   "source": [
    "model.compile(loss='categorical_crossentropy',optimizer='adam',metrics=['accuracy'])"
   ]
  },
  {
   "cell_type": "code",
   "execution_count": 16,
   "metadata": {
    "execution": {
     "iopub.execute_input": "2022-09-14T10:42:42.890838Z",
     "iopub.status.busy": "2022-09-14T10:42:42.890571Z",
     "iopub.status.idle": "2022-09-14T11:42:42.155317Z",
     "shell.execute_reply": "2022-09-14T11:42:42.154434Z",
     "shell.execute_reply.started": "2022-09-14T10:42:42.890813Z"
    }
   },
   "outputs": [
    {
     "name": "stderr",
     "output_type": "stream",
     "text": [
      "/opt/conda/lib/python3.7/site-packages/tensorflow/python/keras/engine/training.py:1844: UserWarning: `Model.fit_generator` is deprecated and will be removed in a future version. Please use `Model.fit`, which supports generators.\n",
      "  warnings.warn('`Model.fit_generator` is deprecated and '\n"
     ]
    },
    {
     "name": "stdout",
     "output_type": "stream",
     "text": [
      "Epoch 1/10\n",
      "782/782 [==============================] - 503s 636ms/step - loss: 0.6851 - accuracy: 0.5450\n",
      "Epoch 2/10\n",
      "782/782 [==============================] - 350s 447ms/step - loss: 0.5864 - accuracy: 0.6917\n",
      "Epoch 3/10\n",
      "782/782 [==============================] - 344s 440ms/step - loss: 0.4814 - accuracy: 0.7691\n",
      "Epoch 4/10\n",
      "782/782 [==============================] - 343s 438ms/step - loss: 0.4076 - accuracy: 0.8122\n",
      "Epoch 5/10\n",
      "782/782 [==============================] - 344s 439ms/step - loss: 0.3531 - accuracy: 0.8423\n",
      "Epoch 6/10\n",
      "782/782 [==============================] - 344s 440ms/step - loss: 0.3200 - accuracy: 0.8612\n",
      "Epoch 7/10\n",
      "782/782 [==============================] - 342s 437ms/step - loss: 0.2887 - accuracy: 0.8765\n",
      "Epoch 8/10\n",
      "782/782 [==============================] - 343s 438ms/step - loss: 0.2677 - accuracy: 0.8862\n",
      "Epoch 9/10\n",
      "782/782 [==============================] - 343s 438ms/step - loss: 0.2477 - accuracy: 0.8971\n",
      "Epoch 10/10\n",
      "782/782 [==============================] - 343s 439ms/step - loss: 0.2322 - accuracy: 0.9046\n"
     ]
    },
    {
     "data": {
      "text/plain": [
       "<tensorflow.python.keras.callbacks.History at 0x7fbf965b6450>"
      ]
     },
     "execution_count": 16,
     "metadata": {},
     "output_type": "execute_result"
    }
   ],
   "source": [
    "model.fit_generator(train_data,steps_per_epoch=len(train_data),epochs=10)"
   ]
  },
  {
   "cell_type": "code",
   "execution_count": 17,
   "metadata": {
    "execution": {
     "iopub.execute_input": "2022-09-14T11:42:42.158118Z",
     "iopub.status.busy": "2022-09-14T11:42:42.157804Z",
     "iopub.status.idle": "2022-09-14T11:42:42.162251Z",
     "shell.execute_reply": "2022-09-14T11:42:42.161143Z",
     "shell.execute_reply.started": "2022-09-14T11:42:42.158086Z"
    }
   },
   "outputs": [],
   "source": [
    "#VGG16 MODEL"
   ]
  },
  {
   "cell_type": "markdown",
   "metadata": {},
   "source": []
  },
  {
   "cell_type": "code",
   "execution_count": 6,
   "metadata": {
    "execution": {
     "iopub.execute_input": "2022-09-15T05:31:30.081034Z",
     "iopub.status.busy": "2022-09-15T05:31:30.080700Z",
     "iopub.status.idle": "2022-09-15T05:31:33.110219Z",
     "shell.execute_reply": "2022-09-15T05:31:33.109272Z",
     "shell.execute_reply.started": "2022-09-15T05:31:30.081001Z"
    }
   },
   "outputs": [
    {
     "name": "stdout",
     "output_type": "stream",
     "text": [
      "Downloading data from https://storage.googleapis.com/tensorflow/keras-applications/vgg16/vgg16_weights_tf_dim_ordering_tf_kernels_notop.h5\n",
      "58892288/58889256 [==============================] - 0s 0us/step\n"
     ]
    }
   ],
   "source": [
    "vgg = tf.keras.applications.vgg16.VGG16(input_shape=(224,224,3),include_top=False)"
   ]
  },
  {
   "cell_type": "code",
   "execution_count": 7,
   "metadata": {
    "execution": {
     "iopub.execute_input": "2022-09-15T05:31:34.646592Z",
     "iopub.status.busy": "2022-09-15T05:31:34.646270Z",
     "iopub.status.idle": "2022-09-15T05:31:34.651525Z",
     "shell.execute_reply": "2022-09-15T05:31:34.650536Z",
     "shell.execute_reply.started": "2022-09-15T05:31:34.646562Z"
    }
   },
   "outputs": [],
   "source": [
    "for layer in vgg.layers:\n",
    "    layer.trainable=False"
   ]
  },
  {
   "cell_type": "code",
   "execution_count": 8,
   "metadata": {
    "execution": {
     "iopub.execute_input": "2022-09-15T05:31:35.713182Z",
     "iopub.status.busy": "2022-09-15T05:31:35.712839Z",
     "iopub.status.idle": "2022-09-15T05:31:35.727279Z",
     "shell.execute_reply": "2022-09-15T05:31:35.726493Z",
     "shell.execute_reply.started": "2022-09-15T05:31:35.713141Z"
    }
   },
   "outputs": [
    {
     "name": "stdout",
     "output_type": "stream",
     "text": [
      "Model: \"vgg16\"\n",
      "_________________________________________________________________\n",
      "Layer (type)                 Output Shape              Param #   \n",
      "=================================================================\n",
      "input_1 (InputLayer)         [(None, 224, 224, 3)]     0         \n",
      "_________________________________________________________________\n",
      "block1_conv1 (Conv2D)        (None, 224, 224, 64)      1792      \n",
      "_________________________________________________________________\n",
      "block1_conv2 (Conv2D)        (None, 224, 224, 64)      36928     \n",
      "_________________________________________________________________\n",
      "block1_pool (MaxPooling2D)   (None, 112, 112, 64)      0         \n",
      "_________________________________________________________________\n",
      "block2_conv1 (Conv2D)        (None, 112, 112, 128)     73856     \n",
      "_________________________________________________________________\n",
      "block2_conv2 (Conv2D)        (None, 112, 112, 128)     147584    \n",
      "_________________________________________________________________\n",
      "block2_pool (MaxPooling2D)   (None, 56, 56, 128)       0         \n",
      "_________________________________________________________________\n",
      "block3_conv1 (Conv2D)        (None, 56, 56, 256)       295168    \n",
      "_________________________________________________________________\n",
      "block3_conv2 (Conv2D)        (None, 56, 56, 256)       590080    \n",
      "_________________________________________________________________\n",
      "block3_conv3 (Conv2D)        (None, 56, 56, 256)       590080    \n",
      "_________________________________________________________________\n",
      "block3_pool (MaxPooling2D)   (None, 28, 28, 256)       0         \n",
      "_________________________________________________________________\n",
      "block4_conv1 (Conv2D)        (None, 28, 28, 512)       1180160   \n",
      "_________________________________________________________________\n",
      "block4_conv2 (Conv2D)        (None, 28, 28, 512)       2359808   \n",
      "_________________________________________________________________\n",
      "block4_conv3 (Conv2D)        (None, 28, 28, 512)       2359808   \n",
      "_________________________________________________________________\n",
      "block4_pool (MaxPooling2D)   (None, 14, 14, 512)       0         \n",
      "_________________________________________________________________\n",
      "block5_conv1 (Conv2D)        (None, 14, 14, 512)       2359808   \n",
      "_________________________________________________________________\n",
      "block5_conv2 (Conv2D)        (None, 14, 14, 512)       2359808   \n",
      "_________________________________________________________________\n",
      "block5_conv3 (Conv2D)        (None, 14, 14, 512)       2359808   \n",
      "_________________________________________________________________\n",
      "block5_pool (MaxPooling2D)   (None, 7, 7, 512)         0         \n",
      "=================================================================\n",
      "Total params: 14,714,688\n",
      "Trainable params: 0\n",
      "Non-trainable params: 14,714,688\n",
      "_________________________________________________________________\n"
     ]
    }
   ],
   "source": [
    "vgg.summary()"
   ]
  },
  {
   "cell_type": "code",
   "execution_count": 9,
   "metadata": {
    "execution": {
     "iopub.execute_input": "2022-09-15T05:31:39.026980Z",
     "iopub.status.busy": "2022-09-15T05:31:39.026655Z",
     "iopub.status.idle": "2022-09-15T05:31:39.033043Z",
     "shell.execute_reply": "2022-09-15T05:31:39.032215Z",
     "shell.execute_reply.started": "2022-09-15T05:31:39.026948Z"
    }
   },
   "outputs": [],
   "source": [
    "from tensorflow.keras.models import Model\n",
    "from tensorflow.keras.layers import Dense,Flatten"
   ]
  },
  {
   "cell_type": "code",
   "execution_count": 10,
   "metadata": {
    "execution": {
     "iopub.execute_input": "2022-09-15T05:31:39.443337Z",
     "iopub.status.busy": "2022-09-15T05:31:39.442987Z",
     "iopub.status.idle": "2022-09-15T05:31:39.460140Z",
     "shell.execute_reply": "2022-09-15T05:31:39.459390Z",
     "shell.execute_reply.started": "2022-09-15T05:31:39.443307Z"
    }
   },
   "outputs": [],
   "source": [
    "flatten_layer=Flatten()(vgg.output)\n",
    "final_layer = Dense(2,activation='softmax')(flatten_layer)"
   ]
  },
  {
   "cell_type": "code",
   "execution_count": 11,
   "metadata": {
    "execution": {
     "iopub.execute_input": "2022-09-15T05:31:41.473790Z",
     "iopub.status.busy": "2022-09-15T05:31:41.473463Z",
     "iopub.status.idle": "2022-09-15T05:31:41.484713Z",
     "shell.execute_reply": "2022-09-15T05:31:41.483723Z",
     "shell.execute_reply.started": "2022-09-15T05:31:41.473757Z"
    }
   },
   "outputs": [],
   "source": [
    "model= Model(inputs = vgg.input,outputs = final_layer)"
   ]
  },
  {
   "cell_type": "code",
   "execution_count": 12,
   "metadata": {
    "execution": {
     "iopub.execute_input": "2022-09-15T05:31:41.911293Z",
     "iopub.status.busy": "2022-09-15T05:31:41.910900Z",
     "iopub.status.idle": "2022-09-15T05:31:41.927191Z",
     "shell.execute_reply": "2022-09-15T05:31:41.926361Z",
     "shell.execute_reply.started": "2022-09-15T05:31:41.911253Z"
    }
   },
   "outputs": [],
   "source": [
    "model.compile(loss='categorical_crossentropy',optimizer='adam',metrics=['accuracy'])\n",
    "#model.compile(loss='categorical_crossentropy',optimizer='adam',metrics=['accuracy'])"
   ]
  },
  {
   "cell_type": "code",
   "execution_count": 13,
   "metadata": {
    "execution": {
     "iopub.execute_input": "2022-09-15T05:31:42.968314Z",
     "iopub.status.busy": "2022-09-15T05:31:42.967969Z",
     "iopub.status.idle": "2022-09-15T05:31:42.972317Z",
     "shell.execute_reply": "2022-09-15T05:31:42.971274Z",
     "shell.execute_reply.started": "2022-09-15T05:31:42.968281Z"
    }
   },
   "outputs": [],
   "source": [
    "from tensorflow.keras.preprocessing.image import ImageDataGenerator"
   ]
  },
  {
   "cell_type": "code",
   "execution_count": 14,
   "metadata": {
    "execution": {
     "iopub.execute_input": "2022-09-15T05:31:43.244495Z",
     "iopub.status.busy": "2022-09-15T05:31:43.244174Z",
     "iopub.status.idle": "2022-09-15T05:31:43.248703Z",
     "shell.execute_reply": "2022-09-15T05:31:43.247691Z",
     "shell.execute_reply.started": "2022-09-15T05:31:43.244463Z"
    }
   },
   "outputs": [],
   "source": [
    "data_generator = ImageDataGenerator(rescale=1/255,horizontal_flip=True,zoom_range=0.2,shear_range=0.2)"
   ]
  },
  {
   "cell_type": "code",
   "execution_count": 15,
   "metadata": {
    "execution": {
     "iopub.execute_input": "2022-09-15T05:31:45.157583Z",
     "iopub.status.busy": "2022-09-15T05:31:45.157253Z",
     "iopub.status.idle": "2022-09-15T05:32:27.911423Z",
     "shell.execute_reply": "2022-09-15T05:32:27.909961Z",
     "shell.execute_reply.started": "2022-09-15T05:31:45.157552Z"
    }
   },
   "outputs": [
    {
     "name": "stdout",
     "output_type": "stream",
     "text": [
      "Found 25000 validated image filenames belonging to 2 classes.\n"
     ]
    }
   ],
   "source": [
    "file_list=os.listdir('/kaggle/input/dogs-vs-cats/train/train')\n",
    "categories=[]\n",
    "for filename in file_list:\n",
    "    categories.append(filename.split('.')[0])\n",
    "df=pd.DataFrame({'filepath':file_list,'categories':categories})\n",
    "train_data=data_generator.flow_from_dataframe(df,'/kaggle/input/dogs-vs-cats/train/train',x_col='filepath',y_col='categories',target_size=(224,224),batch_size=32,class_mode='categorical')"
   ]
  },
  {
   "cell_type": "code",
   "execution_count": 17,
   "metadata": {
    "execution": {
     "iopub.execute_input": "2022-09-15T05:32:27.920533Z",
     "iopub.status.busy": "2022-09-15T05:32:27.919811Z",
     "iopub.status.idle": "2022-09-15T07:47:20.348855Z",
     "shell.execute_reply": "2022-09-15T07:47:20.347914Z",
     "shell.execute_reply.started": "2022-09-15T05:32:27.920497Z"
    }
   },
   "outputs": [
    {
     "name": "stderr",
     "output_type": "stream",
     "text": [
      "/opt/conda/lib/python3.7/site-packages/tensorflow/python/keras/engine/training.py:1844: UserWarning: `Model.fit_generator` is deprecated and will be removed in a future version. Please use `Model.fit`, which supports generators.\n",
      "  warnings.warn('`Model.fit_generator` is deprecated and '\n"
     ]
    },
    {
     "name": "stdout",
     "output_type": "stream",
     "text": [
      "Epoch 1/3\n",
      "782/782 [==============================] - 2714s 3s/step - loss: 0.3672 - accuracy: 0.8484\n",
      "Epoch 2/3\n",
      "782/782 [==============================] - 2689s 3s/step - loss: 0.2398 - accuracy: 0.9137\n",
      "Epoch 3/3\n",
      "782/782 [==============================] - 2689s 3s/step - loss: 0.2276 - accuracy: 0.9183\n"
     ]
    },
    {
     "data": {
      "text/plain": [
       "<tensorflow.python.keras.callbacks.History at 0x7f86583359d0>"
      ]
     },
     "execution_count": 17,
     "metadata": {},
     "output_type": "execute_result"
    }
   ],
   "source": [
    "model.fit_generator(train_data,steps_per_epoch=len(train_data),epochs=3)"
   ]
  }
 ],
 "metadata": {
  "kernelspec": {
   "display_name": "Python 3",
   "language": "python",
   "name": "python3"
  },
  "language_info": {
   "codemirror_mode": {
    "name": "ipython",
    "version": 3
   },
   "file_extension": ".py",
   "mimetype": "text/x-python",
   "name": "python",
   "nbconvert_exporter": "python",
   "pygments_lexer": "ipython3",
   "version": "3.7.10"
  }
 },
 "nbformat": 4,
 "nbformat_minor": 4
}
